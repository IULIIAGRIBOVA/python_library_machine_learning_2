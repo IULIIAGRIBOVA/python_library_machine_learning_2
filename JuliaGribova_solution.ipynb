{
  "nbformat": 4,
  "nbformat_minor": 0,
  "metadata": {
    "colab": {
      "name": "JuliaGribova_solution.ipynb",
      "provenance": [],
      "collapsed_sections": []
    },
    "kernelspec": {
      "name": "python3",
      "display_name": "Python 3"
    }
  },
  "cells": [
    {
      "cell_type": "code",
      "metadata": {
        "colab": {
          "base_uri": "https://localhost:8080/"
        },
        "id": "q5zzk4RzzIlF",
        "outputId": "1a9dc2ef-b0c5-49de-b58e-4fe7c93f5926"
      },
      "source": [
        "!pip install catboost"
      ],
      "execution_count": 70,
      "outputs": [
        {
          "output_type": "stream",
          "text": [
            "Collecting catboost\n",
            "\u001b[?25l  Downloading https://files.pythonhosted.org/packages/7e/c1/c1c4707013f9e2f8a96899dd3a87f66c9167d6d776a6dc8fe7ec8678d446/catboost-0.24.3-cp36-none-manylinux1_x86_64.whl (66.3MB)\n",
            "\u001b[K     |████████████████████████████████| 66.3MB 57kB/s \n",
            "\u001b[?25hRequirement already satisfied: plotly in /usr/local/lib/python3.6/dist-packages (from catboost) (4.4.1)\n",
            "Requirement already satisfied: graphviz in /usr/local/lib/python3.6/dist-packages (from catboost) (0.10.1)\n",
            "Requirement already satisfied: scipy in /usr/local/lib/python3.6/dist-packages (from catboost) (1.4.1)\n",
            "Requirement already satisfied: pandas>=0.24.0 in /usr/local/lib/python3.6/dist-packages (from catboost) (1.1.5)\n",
            "Requirement already satisfied: numpy>=1.16.0 in /usr/local/lib/python3.6/dist-packages (from catboost) (1.19.4)\n",
            "Requirement already satisfied: six in /usr/local/lib/python3.6/dist-packages (from catboost) (1.15.0)\n",
            "Requirement already satisfied: matplotlib in /usr/local/lib/python3.6/dist-packages (from catboost) (3.2.2)\n",
            "Requirement already satisfied: retrying>=1.3.3 in /usr/local/lib/python3.6/dist-packages (from plotly->catboost) (1.3.3)\n",
            "Requirement already satisfied: pytz>=2017.2 in /usr/local/lib/python3.6/dist-packages (from pandas>=0.24.0->catboost) (2018.9)\n",
            "Requirement already satisfied: python-dateutil>=2.7.3 in /usr/local/lib/python3.6/dist-packages (from pandas>=0.24.0->catboost) (2.8.1)\n",
            "Requirement already satisfied: kiwisolver>=1.0.1 in /usr/local/lib/python3.6/dist-packages (from matplotlib->catboost) (1.3.1)\n",
            "Requirement already satisfied: pyparsing!=2.0.4,!=2.1.2,!=2.1.6,>=2.0.1 in /usr/local/lib/python3.6/dist-packages (from matplotlib->catboost) (2.4.7)\n",
            "Requirement already satisfied: cycler>=0.10 in /usr/local/lib/python3.6/dist-packages (from matplotlib->catboost) (0.10.0)\n",
            "Installing collected packages: catboost\n",
            "Successfully installed catboost-0.24.3\n"
          ],
          "name": "stdout"
        }
      ]
    },
    {
      "cell_type": "code",
      "metadata": {
        "id": "l1doAdh1u4uc"
      },
      "source": [
        "import numpy as np\r\n",
        "import pandas as pd\r\n",
        "import random\r\n",
        "import re\r\n",
        "\r\n",
        "from sklearn.model_selection import cross_val_score, train_test_split, RandomizedSearchCV\r\n",
        "from sklearn.ensemble import RandomForestClassifier , GradientBoostingClassifier\r\n",
        "from sklearn.metrics import r2_score\r\n",
        "from sklearn.metrics import recall_score, precision_score\r\n",
        "from sklearn.model_selection import KFold, train_test_split, GridSearchCV\r\n",
        "from sklearn.metrics import f1_score, make_scorer,  classification_report\r\n",
        "import catboost as catb\r\n",
        "#import xgboost as xgb, lightgbm as lgbm, catboost as catb\r\n",
        "\r\n",
        "import matplotlib\r\n",
        "import matplotlib.pyplot as plt\r\n",
        "import seaborn as sns\r\n",
        "%matplotlib inline\r\n",
        "\r\n",
        "import warnings\r\n",
        "warnings.filterwarnings('ignore')\r\n",
        "sns.set(style='whitegrid')\r\n",
        "sns.set_context(\"paper\", font_scale=1.5)  \r\n",
        "pd.options.display.float_format = '{:,.2f}'.format\r\n",
        "pd.set_option('display.max_rows', 50)"
      ],
      "execution_count": 174,
      "outputs": []
    },
    {
      "cell_type": "code",
      "metadata": {
        "id": "RIKJ2M29wxBm"
      },
      "source": [
        "train = pd.read_csv('course_project_train.csv',  encoding='utf-8')"
      ],
      "execution_count": 117,
      "outputs": []
    },
    {
      "cell_type": "code",
      "metadata": {
        "id": "ZS9pjdqowzN0"
      },
      "source": [
        "test = pd.read_csv('course_project_test.csv',  encoding='utf-8')"
      ],
      "execution_count": 118,
      "outputs": []
    },
    {
      "cell_type": "code",
      "metadata": {
        "colab": {
          "base_uri": "https://localhost:8080/"
        },
        "id": "9m-HxIb0w0t1",
        "outputId": "c864d7f3-906f-4569-a02d-913ba5d03cde"
      },
      "source": [
        "train.info()"
      ],
      "execution_count": 119,
      "outputs": [
        {
          "output_type": "stream",
          "text": [
            "<class 'pandas.core.frame.DataFrame'>\n",
            "RangeIndex: 7500 entries, 0 to 7499\n",
            "Data columns (total 17 columns):\n",
            " #   Column                        Non-Null Count  Dtype  \n",
            "---  ------                        --------------  -----  \n",
            " 0   Home Ownership                7500 non-null   object \n",
            " 1   Annual Income                 5943 non-null   float64\n",
            " 2   Years in current job          7129 non-null   object \n",
            " 3   Tax Liens                     7500 non-null   float64\n",
            " 4   Number of Open Accounts       7500 non-null   float64\n",
            " 5   Years of Credit History       7500 non-null   float64\n",
            " 6   Maximum Open Credit           7500 non-null   float64\n",
            " 7   Number of Credit Problems     7500 non-null   float64\n",
            " 8   Months since last delinquent  3419 non-null   float64\n",
            " 9   Bankruptcies                  7486 non-null   float64\n",
            " 10  Purpose                       7500 non-null   object \n",
            " 11  Term                          7500 non-null   object \n",
            " 12  Current Loan Amount           7500 non-null   float64\n",
            " 13  Current Credit Balance        7500 non-null   float64\n",
            " 14  Monthly Debt                  7500 non-null   float64\n",
            " 15  Credit Score                  5943 non-null   float64\n",
            " 16  Credit Default                7500 non-null   int64  \n",
            "dtypes: float64(12), int64(1), object(4)\n",
            "memory usage: 996.2+ KB\n"
          ],
          "name": "stdout"
        }
      ]
    },
    {
      "cell_type": "code",
      "metadata": {
        "colab": {
          "base_uri": "https://localhost:8080/"
        },
        "id": "gDy5McO3xNB-",
        "outputId": "4a1119b7-096f-4973-a92c-ce5448ece20f"
      },
      "source": [
        "test.info()"
      ],
      "execution_count": 120,
      "outputs": [
        {
          "output_type": "stream",
          "text": [
            "<class 'pandas.core.frame.DataFrame'>\n",
            "RangeIndex: 2500 entries, 0 to 2499\n",
            "Data columns (total 16 columns):\n",
            " #   Column                        Non-Null Count  Dtype  \n",
            "---  ------                        --------------  -----  \n",
            " 0   Home Ownership                2500 non-null   object \n",
            " 1   Annual Income                 1987 non-null   float64\n",
            " 2   Years in current job          2414 non-null   object \n",
            " 3   Tax Liens                     2500 non-null   float64\n",
            " 4   Number of Open Accounts       2500 non-null   float64\n",
            " 5   Years of Credit History       2500 non-null   float64\n",
            " 6   Maximum Open Credit           2500 non-null   float64\n",
            " 7   Number of Credit Problems     2500 non-null   float64\n",
            " 8   Months since last delinquent  1142 non-null   float64\n",
            " 9   Bankruptcies                  2497 non-null   float64\n",
            " 10  Purpose                       2500 non-null   object \n",
            " 11  Term                          2500 non-null   object \n",
            " 12  Current Loan Amount           2500 non-null   float64\n",
            " 13  Current Credit Balance        2500 non-null   float64\n",
            " 14  Monthly Debt                  2500 non-null   float64\n",
            " 15  Credit Score                  1987 non-null   float64\n",
            "dtypes: float64(12), object(4)\n",
            "memory usage: 312.6+ KB\n"
          ],
          "name": "stdout"
        }
      ]
    },
    {
      "cell_type": "code",
      "metadata": {
        "colab": {
          "base_uri": "https://localhost:8080/",
          "height": 350
        },
        "id": "4dZ7OEvExPXe",
        "outputId": "e13f4253-1929-450b-ff0c-e6a96334263e"
      },
      "source": [
        "train.head()"
      ],
      "execution_count": 121,
      "outputs": [
        {
          "output_type": "execute_result",
          "data": {
            "text/html": [
              "<div>\n",
              "<style scoped>\n",
              "    .dataframe tbody tr th:only-of-type {\n",
              "        vertical-align: middle;\n",
              "    }\n",
              "\n",
              "    .dataframe tbody tr th {\n",
              "        vertical-align: top;\n",
              "    }\n",
              "\n",
              "    .dataframe thead th {\n",
              "        text-align: right;\n",
              "    }\n",
              "</style>\n",
              "<table border=\"1\" class=\"dataframe\">\n",
              "  <thead>\n",
              "    <tr style=\"text-align: right;\">\n",
              "      <th></th>\n",
              "      <th>Home Ownership</th>\n",
              "      <th>Annual Income</th>\n",
              "      <th>Years in current job</th>\n",
              "      <th>Tax Liens</th>\n",
              "      <th>Number of Open Accounts</th>\n",
              "      <th>Years of Credit History</th>\n",
              "      <th>Maximum Open Credit</th>\n",
              "      <th>Number of Credit Problems</th>\n",
              "      <th>Months since last delinquent</th>\n",
              "      <th>Bankruptcies</th>\n",
              "      <th>Purpose</th>\n",
              "      <th>Term</th>\n",
              "      <th>Current Loan Amount</th>\n",
              "      <th>Current Credit Balance</th>\n",
              "      <th>Monthly Debt</th>\n",
              "      <th>Credit Score</th>\n",
              "      <th>Credit Default</th>\n",
              "    </tr>\n",
              "  </thead>\n",
              "  <tbody>\n",
              "    <tr>\n",
              "      <th>0</th>\n",
              "      <td>Own Home</td>\n",
              "      <td>482,087.00</td>\n",
              "      <td>NaN</td>\n",
              "      <td>0.00</td>\n",
              "      <td>11.00</td>\n",
              "      <td>26.30</td>\n",
              "      <td>685,960.00</td>\n",
              "      <td>1.00</td>\n",
              "      <td>nan</td>\n",
              "      <td>1.00</td>\n",
              "      <td>debt consolidation</td>\n",
              "      <td>Short Term</td>\n",
              "      <td>99,999,999.00</td>\n",
              "      <td>47,386.00</td>\n",
              "      <td>7,914.00</td>\n",
              "      <td>749.00</td>\n",
              "      <td>0</td>\n",
              "    </tr>\n",
              "    <tr>\n",
              "      <th>1</th>\n",
              "      <td>Own Home</td>\n",
              "      <td>1,025,487.00</td>\n",
              "      <td>10+ years</td>\n",
              "      <td>0.00</td>\n",
              "      <td>15.00</td>\n",
              "      <td>15.30</td>\n",
              "      <td>1,181,730.00</td>\n",
              "      <td>0.00</td>\n",
              "      <td>nan</td>\n",
              "      <td>0.00</td>\n",
              "      <td>debt consolidation</td>\n",
              "      <td>Long Term</td>\n",
              "      <td>264,968.00</td>\n",
              "      <td>394,972.00</td>\n",
              "      <td>18,373.00</td>\n",
              "      <td>737.00</td>\n",
              "      <td>1</td>\n",
              "    </tr>\n",
              "    <tr>\n",
              "      <th>2</th>\n",
              "      <td>Home Mortgage</td>\n",
              "      <td>751,412.00</td>\n",
              "      <td>8 years</td>\n",
              "      <td>0.00</td>\n",
              "      <td>11.00</td>\n",
              "      <td>35.00</td>\n",
              "      <td>1,182,434.00</td>\n",
              "      <td>0.00</td>\n",
              "      <td>nan</td>\n",
              "      <td>0.00</td>\n",
              "      <td>debt consolidation</td>\n",
              "      <td>Short Term</td>\n",
              "      <td>99,999,999.00</td>\n",
              "      <td>308,389.00</td>\n",
              "      <td>13,651.00</td>\n",
              "      <td>742.00</td>\n",
              "      <td>0</td>\n",
              "    </tr>\n",
              "    <tr>\n",
              "      <th>3</th>\n",
              "      <td>Own Home</td>\n",
              "      <td>805,068.00</td>\n",
              "      <td>6 years</td>\n",
              "      <td>0.00</td>\n",
              "      <td>8.00</td>\n",
              "      <td>22.50</td>\n",
              "      <td>147,400.00</td>\n",
              "      <td>1.00</td>\n",
              "      <td>nan</td>\n",
              "      <td>1.00</td>\n",
              "      <td>debt consolidation</td>\n",
              "      <td>Short Term</td>\n",
              "      <td>121,396.00</td>\n",
              "      <td>95,855.00</td>\n",
              "      <td>11,338.00</td>\n",
              "      <td>694.00</td>\n",
              "      <td>0</td>\n",
              "    </tr>\n",
              "    <tr>\n",
              "      <th>4</th>\n",
              "      <td>Rent</td>\n",
              "      <td>776,264.00</td>\n",
              "      <td>8 years</td>\n",
              "      <td>0.00</td>\n",
              "      <td>13.00</td>\n",
              "      <td>13.60</td>\n",
              "      <td>385,836.00</td>\n",
              "      <td>1.00</td>\n",
              "      <td>nan</td>\n",
              "      <td>0.00</td>\n",
              "      <td>debt consolidation</td>\n",
              "      <td>Short Term</td>\n",
              "      <td>125,840.00</td>\n",
              "      <td>93,309.00</td>\n",
              "      <td>7,180.00</td>\n",
              "      <td>719.00</td>\n",
              "      <td>0</td>\n",
              "    </tr>\n",
              "  </tbody>\n",
              "</table>\n",
              "</div>"
            ],
            "text/plain": [
              "  Home Ownership  Annual Income  ... Credit Score  Credit Default\n",
              "0       Own Home     482,087.00  ...       749.00               0\n",
              "1       Own Home   1,025,487.00  ...       737.00               1\n",
              "2  Home Mortgage     751,412.00  ...       742.00               0\n",
              "3       Own Home     805,068.00  ...       694.00               0\n",
              "4           Rent     776,264.00  ...       719.00               0\n",
              "\n",
              "[5 rows x 17 columns]"
            ]
          },
          "metadata": {
            "tags": []
          },
          "execution_count": 121
        }
      ]
    },
    {
      "cell_type": "code",
      "metadata": {
        "colab": {
          "base_uri": "https://localhost:8080/"
        },
        "id": "FxXrJp7GxdtX",
        "outputId": "f7501282-f270-4749-b410-babc2efe1204"
      },
      "source": [
        "train.shape, test.shape"
      ],
      "execution_count": 122,
      "outputs": [
        {
          "output_type": "execute_result",
          "data": {
            "text/plain": [
              "((7500, 17), (2500, 16))"
            ]
          },
          "metadata": {
            "tags": []
          },
          "execution_count": 122
        }
      ]
    },
    {
      "cell_type": "code",
      "metadata": {
        "colab": {
          "base_uri": "https://localhost:8080/"
        },
        "id": "JT2QfwAcsMsK",
        "outputId": "b8481d4d-0fa2-4aae-ac93-4020cdaac583"
      },
      "source": [
        "print(train['Credit Default'].sum())"
      ],
      "execution_count": 123,
      "outputs": [
        {
          "output_type": "stream",
          "text": [
            "2113\n"
          ],
          "name": "stdout"
        }
      ]
    },
    {
      "cell_type": "code",
      "metadata": {
        "colab": {
          "base_uri": "https://localhost:8080/"
        },
        "id": "es69XjFpxgfV",
        "outputId": "05a2af7b-369d-43b6-9fb3-96a82d610cb9"
      },
      "source": [
        "#проверяем, какие типы нужно изменить\r\n",
        "train.dtypes"
      ],
      "execution_count": 124,
      "outputs": [
        {
          "output_type": "execute_result",
          "data": {
            "text/plain": [
              "Home Ownership                   object\n",
              "Annual Income                   float64\n",
              "Years in current job             object\n",
              "Tax Liens                       float64\n",
              "Number of Open Accounts         float64\n",
              "Years of Credit History         float64\n",
              "Maximum Open Credit             float64\n",
              "Number of Credit Problems       float64\n",
              "Months since last delinquent    float64\n",
              "Bankruptcies                    float64\n",
              "Purpose                          object\n",
              "Term                             object\n",
              "Current Loan Amount             float64\n",
              "Current Credit Balance          float64\n",
              "Monthly Debt                    float64\n",
              "Credit Score                    float64\n",
              "Credit Default                    int64\n",
              "dtype: object"
            ]
          },
          "metadata": {
            "tags": []
          },
          "execution_count": 124
        }
      ]
    },
    {
      "cell_type": "code",
      "metadata": {
        "colab": {
          "base_uri": "https://localhost:8080/"
        },
        "id": "7VGOOEO81A-7",
        "outputId": "696695c4-9537-4e31-8ba9-4b319ffb5f73"
      },
      "source": [
        "train['Years in current job'].unique()"
      ],
      "execution_count": 125,
      "outputs": [
        {
          "output_type": "execute_result",
          "data": {
            "text/plain": [
              "array([nan, '10+ years', '8 years', '6 years', '7 years', '5 years',\n",
              "       '1 year', '< 1 year', '4 years', '3 years', '2 years', '9 years'],\n",
              "      dtype=object)"
            ]
          },
          "metadata": {
            "tags": []
          },
          "execution_count": 125
        }
      ]
    },
    {
      "cell_type": "code",
      "metadata": {
        "id": "y550LlxE0Q6g"
      },
      "source": [
        "#years = train.get_dummies(train['Years in current job'])\r\n",
        "#y = pd.get_dummies(train.['Years in current job'], prefix='years')\r\n",
        "#train = train.join(y)"
      ],
      "execution_count": null,
      "outputs": []
    },
    {
      "cell_type": "code",
      "metadata": {
        "id": "Ua1zzpca4d1q"
      },
      "source": [
        "train['Years in current job'].fillna(train['Years in current job'].mode()[0], inplace=True)\r\n",
        "test['Years in current job'].fillna(train['Years in current job'].mode()[0], inplace=True)"
      ],
      "execution_count": 126,
      "outputs": []
    },
    {
      "cell_type": "code",
      "metadata": {
        "id": "qYKBBvwu25Ca"
      },
      "source": [
        "train.loc[(train['Years in current job'] == '< 1 year'), 'Years in current job'] = '0'\r\n",
        "test.loc[(test['Years in current job'] == '< 1 year'), 'Years in current job'] = '0'"
      ],
      "execution_count": 127,
      "outputs": []
    },
    {
      "cell_type": "code",
      "metadata": {
        "id": "ht4LirSQ3xFJ"
      },
      "source": [
        "train['Years in current job'] = [re.sub('\\D', '', item) for item in train['Years in current job']]\r\n",
        "train['Years in current job'] = train['Years in current job'].astype(np.float64)\r\n",
        "\r\n",
        "test['Years in current job'] = [re.sub('\\D', '', item) for item in test['Years in current job']]\r\n",
        "test['Years in current job'] = test['Years in current job'].astype(np.float64)"
      ],
      "execution_count": 128,
      "outputs": []
    },
    {
      "cell_type": "code",
      "metadata": {
        "colab": {
          "base_uri": "https://localhost:8080/"
        },
        "id": "jqXL9fb209k1",
        "outputId": "c339e888-5e3f-45fa-a5f6-d5028a7fb471"
      },
      "source": [
        "train['Home Ownership'].unique()"
      ],
      "execution_count": 129,
      "outputs": [
        {
          "output_type": "execute_result",
          "data": {
            "text/plain": [
              "array(['Own Home', 'Home Mortgage', 'Rent', 'Have Mortgage'], dtype=object)"
            ]
          },
          "metadata": {
            "tags": []
          },
          "execution_count": 129
        }
      ]
    },
    {
      "cell_type": "code",
      "metadata": {
        "colab": {
          "base_uri": "https://localhost:8080/",
          "height": 195
        },
        "id": "xflWWpci6f-d",
        "outputId": "57b3bb91-eb02-4058-c1e2-ac1aa9910227"
      },
      "source": [
        "home_ownership = pd.get_dummies(train['Home Ownership'], prefix='Owner')\r\n",
        "home_ownership_test = pd.get_dummies(test['Home Ownership'], prefix='Owner')\r\n",
        "home_ownership.head()\r\n"
      ],
      "execution_count": 130,
      "outputs": [
        {
          "output_type": "execute_result",
          "data": {
            "text/html": [
              "<div>\n",
              "<style scoped>\n",
              "    .dataframe tbody tr th:only-of-type {\n",
              "        vertical-align: middle;\n",
              "    }\n",
              "\n",
              "    .dataframe tbody tr th {\n",
              "        vertical-align: top;\n",
              "    }\n",
              "\n",
              "    .dataframe thead th {\n",
              "        text-align: right;\n",
              "    }\n",
              "</style>\n",
              "<table border=\"1\" class=\"dataframe\">\n",
              "  <thead>\n",
              "    <tr style=\"text-align: right;\">\n",
              "      <th></th>\n",
              "      <th>Owner_Have Mortgage</th>\n",
              "      <th>Owner_Home Mortgage</th>\n",
              "      <th>Owner_Own Home</th>\n",
              "      <th>Owner_Rent</th>\n",
              "    </tr>\n",
              "  </thead>\n",
              "  <tbody>\n",
              "    <tr>\n",
              "      <th>0</th>\n",
              "      <td>0</td>\n",
              "      <td>0</td>\n",
              "      <td>1</td>\n",
              "      <td>0</td>\n",
              "    </tr>\n",
              "    <tr>\n",
              "      <th>1</th>\n",
              "      <td>0</td>\n",
              "      <td>0</td>\n",
              "      <td>1</td>\n",
              "      <td>0</td>\n",
              "    </tr>\n",
              "    <tr>\n",
              "      <th>2</th>\n",
              "      <td>0</td>\n",
              "      <td>1</td>\n",
              "      <td>0</td>\n",
              "      <td>0</td>\n",
              "    </tr>\n",
              "    <tr>\n",
              "      <th>3</th>\n",
              "      <td>0</td>\n",
              "      <td>0</td>\n",
              "      <td>1</td>\n",
              "      <td>0</td>\n",
              "    </tr>\n",
              "    <tr>\n",
              "      <th>4</th>\n",
              "      <td>0</td>\n",
              "      <td>0</td>\n",
              "      <td>0</td>\n",
              "      <td>1</td>\n",
              "    </tr>\n",
              "  </tbody>\n",
              "</table>\n",
              "</div>"
            ],
            "text/plain": [
              "   Owner_Have Mortgage  Owner_Home Mortgage  Owner_Own Home  Owner_Rent\n",
              "0                    0                    0               1           0\n",
              "1                    0                    0               1           0\n",
              "2                    0                    1               0           0\n",
              "3                    0                    0               1           0\n",
              "4                    0                    0               0           1"
            ]
          },
          "metadata": {
            "tags": []
          },
          "execution_count": 130
        }
      ]
    },
    {
      "cell_type": "code",
      "metadata": {
        "id": "L_P8CNpL7AxW"
      },
      "source": [
        "train = train.join(home_ownership)\r\n",
        "test = test.join(home_ownership_test)\r\n"
      ],
      "execution_count": 131,
      "outputs": []
    },
    {
      "cell_type": "code",
      "metadata": {
        "id": "DYyaqOWS7Ydm"
      },
      "source": [
        "del train['Home Ownership']\r\n",
        "del test['Home Ownership']"
      ],
      "execution_count": 132,
      "outputs": []
    },
    {
      "cell_type": "code",
      "metadata": {
        "colab": {
          "base_uri": "https://localhost:8080/"
        },
        "id": "BPoUdPxu7oof",
        "outputId": "611f95d9-94f6-4c59-bfa4-b11c4c3c2a26"
      },
      "source": [
        "train['Purpose'].unique()"
      ],
      "execution_count": 133,
      "outputs": [
        {
          "output_type": "execute_result",
          "data": {
            "text/plain": [
              "array(['debt consolidation', 'other', 'home improvements', 'take a trip',\n",
              "       'buy a car', 'small business', 'business loan', 'wedding',\n",
              "       'educational expenses', 'buy house', 'medical bills', 'moving',\n",
              "       'major purchase', 'vacation', 'renewable energy'], dtype=object)"
            ]
          },
          "metadata": {
            "tags": []
          },
          "execution_count": 133
        }
      ]
    },
    {
      "cell_type": "code",
      "metadata": {
        "id": "rmSt4Zfm7zC8"
      },
      "source": [
        "Purpose = pd.get_dummies(train['Purpose'], prefix='Purpose')\r\n",
        "Purpose_test = pd.get_dummies(test['Purpose'], prefix='Purpose')"
      ],
      "execution_count": 134,
      "outputs": []
    },
    {
      "cell_type": "code",
      "metadata": {
        "id": "0fWgwkv776FQ"
      },
      "source": [
        "train = train.join(Purpose)\r\n",
        "test = test.join(Purpose_test)"
      ],
      "execution_count": 135,
      "outputs": []
    },
    {
      "cell_type": "code",
      "metadata": {
        "id": "RwwfWxvU8CHg"
      },
      "source": [
        "del train['Purpose']\r\n",
        "del test['Purpose']"
      ],
      "execution_count": 136,
      "outputs": []
    },
    {
      "cell_type": "code",
      "metadata": {
        "colab": {
          "base_uri": "https://localhost:8080/"
        },
        "id": "AFeQc-SD8HM9",
        "outputId": "b793af3c-a658-4986-8eb4-54808fe0e399"
      },
      "source": [
        "train['Term'].unique()"
      ],
      "execution_count": 137,
      "outputs": [
        {
          "output_type": "execute_result",
          "data": {
            "text/plain": [
              "array(['Short Term', 'Long Term'], dtype=object)"
            ]
          },
          "metadata": {
            "tags": []
          },
          "execution_count": 137
        }
      ]
    },
    {
      "cell_type": "code",
      "metadata": {
        "id": "3ZU-vR5w8Syv"
      },
      "source": [
        "train['Term'] = train['Term'].replace({'Short Term':0, 'Long Term':1})\r\n",
        "test['Term'] = test['Term'].replace({'Short Term':0, 'Long Term':1})"
      ],
      "execution_count": 138,
      "outputs": []
    },
    {
      "cell_type": "markdown",
      "metadata": {
        "id": "35qRykHaARMi"
      },
      "source": [
        "**Заполняем пропуски:**"
      ]
    },
    {
      "cell_type": "code",
      "metadata": {
        "id": "JAC-t9GB-RK_"
      },
      "source": [
        "train['Annual Income'].fillna(train['Annual Income'].median(), inplace=True)\r\n",
        "train['Months since last delinquent'].fillna(train['Months since last delinquent'].median(), inplace=True)\r\n",
        "train['Bankruptcies'].fillna(train['Bankruptcies'].median(), inplace=True)\r\n",
        "train['Credit Score'].fillna(train['Credit Score'].median(), inplace=True)\r\n",
        "\r\n",
        "test['Annual Income'].fillna(train['Annual Income'].median(), inplace=True)\r\n",
        "test['Months since last delinquent'].fillna(train['Months since last delinquent'].median(), inplace=True)\r\n",
        "test['Bankruptcies'].fillna(train['Bankruptcies'].median(), inplace=True)\r\n",
        "test['Credit Score'].fillna(train['Credit Score'].median(), inplace=True)"
      ],
      "execution_count": 139,
      "outputs": []
    },
    {
      "cell_type": "markdown",
      "metadata": {
        "id": "CNMWGBxgCSOr"
      },
      "source": [
        "**Обработка выбросов**"
      ]
    },
    {
      "cell_type": "code",
      "metadata": {
        "colab": {
          "base_uri": "https://localhost:8080/",
          "height": 316
        },
        "id": "sqfmIP6u_Agq",
        "outputId": "049130c8-8653-4fef-a547-c03c63019880"
      },
      "source": [
        "plt.scatter(train['Annual Income'], train['Maximum Open Credit'])"
      ],
      "execution_count": 140,
      "outputs": [
        {
          "output_type": "execute_result",
          "data": {
            "text/plain": [
              "<matplotlib.collections.PathCollection at 0x7f0b92f06160>"
            ]
          },
          "metadata": {
            "tags": []
          },
          "execution_count": 140
        },
        {
          "output_type": "display_data",
          "data": {
            "image/png": "[encoded data removed]",
            "text/plain": [
              "<Figure size 432x288 with 1 Axes>"
            ]
          },
          "metadata": {
            "tags": []
          }
        }
      ]
    },
    {
      "cell_type": "code",
      "metadata": {
        "id": "QhoI4X1oCHgC"
      },
      "source": [
        "train['Maximum Open Credit'].max()\r\n",
        "train.loc[(train['Maximum Open Credit'] > 200000000), 'Maximum Open Credit'] = train['Maximum Open Credit'].median()\r\n",
        "test.loc[(test['Maximum Open Credit'] > 200000000), 'Maximum Open Credit'] = train['Maximum Open Credit'].median()"
      ],
      "execution_count": 141,
      "outputs": []
    },
    {
      "cell_type": "code",
      "metadata": {
        "colab": {
          "base_uri": "https://localhost:8080/",
          "height": 303
        },
        "id": "I_s8Wz0uD82q",
        "outputId": "4e59c8a1-1c89-4646-ae24-196e39ba6c88"
      },
      "source": [
        "plt.scatter(train['Annual Income'], train['Number of Open Accounts'])\r\n"
      ],
      "execution_count": 142,
      "outputs": [
        {
          "output_type": "execute_result",
          "data": {
            "text/plain": [
              "<matplotlib.collections.PathCollection at 0x7f0b92ed8978>"
            ]
          },
          "metadata": {
            "tags": []
          },
          "execution_count": 142
        },
        {
          "output_type": "display_data",
          "data": {
            "image/png": "[encoded data removed]",
            "text/plain": [
              "<Figure size 432x288 with 1 Axes>"
            ]
          },
          "metadata": {
            "tags": []
          }
        }
      ]
    },
    {
      "cell_type": "code",
      "metadata": {
        "colab": {
          "base_uri": "https://localhost:8080/",
          "height": 303
        },
        "id": "usi8DyR7Dhrj",
        "outputId": "dfcc194e-a505-4d1a-f626-7c81cfffb068"
      },
      "source": [
        "plt.scatter(train['Annual Income'], train['Number of Credit Problems'])\r\n"
      ],
      "execution_count": 143,
      "outputs": [
        {
          "output_type": "execute_result",
          "data": {
            "text/plain": [
              "<matplotlib.collections.PathCollection at 0x7f0b92eb16a0>"
            ]
          },
          "metadata": {
            "tags": []
          },
          "execution_count": 143
        },
        {
          "output_type": "display_data",
          "data": {
            "image/png": "[encoded data removed]",
            "text/plain": [
              "<Figure size 432x288 with 1 Axes>"
            ]
          },
          "metadata": {
            "tags": []
          }
        }
      ]
    },
    {
      "cell_type": "code",
      "metadata": {
        "colab": {
          "base_uri": "https://localhost:8080/",
          "height": 316
        },
        "id": "bxeTMQC9_tPw",
        "outputId": "5c4fbd40-d765-4882-8da4-d0273c2bad00"
      },
      "source": [
        "plt.scatter(train['Annual Income'], train['Current Credit Balance'])\r\n"
      ],
      "execution_count": 144,
      "outputs": [
        {
          "output_type": "execute_result",
          "data": {
            "text/plain": [
              "<matplotlib.collections.PathCollection at 0x7f0b92e114a8>"
            ]
          },
          "metadata": {
            "tags": []
          },
          "execution_count": 144
        },
        {
          "output_type": "display_data",
          "data": {
            "image/png": "[encoded data removed]",
            "text/plain": [
              "<Figure size 432x288 with 1 Axes>"
            ]
          },
          "metadata": {
            "tags": []
          }
        }
      ]
    },
    {
      "cell_type": "code",
      "metadata": {
        "id": "1lPPnpmbErry"
      },
      "source": [
        "train.loc[(train['Current Credit Balance'] > 4800000), 'Current Credit Balance'] = train['Current Credit Balance'].median()\r\n",
        "test.loc[(test['Current Credit Balance'] > 4800000), 'Current Credit Balance'] = train['Current Credit Balance'].median()"
      ],
      "execution_count": 145,
      "outputs": []
    },
    {
      "cell_type": "markdown",
      "metadata": {
        "id": "n2iEc8liFPGO"
      },
      "source": [
        "**Построение модели**"
      ]
    },
    {
      "cell_type": "code",
      "metadata": {
        "id": "TfcMfwqiFKdS"
      },
      "source": [
        "target_name = ['Credit Default']\r\n",
        "#после построения модели, просмотрела feature_importances_ и исключила наименее значимые\r\n",
        "feature_names = [\r\n",
        "   'Annual Income' ,\r\n",
        "   'Years in current job' ,\r\n",
        "   'Number of Open Accounts',\r\n",
        "   'Years of Credit History'  ,\r\n",
        "   'Maximum Open Credit'     ,\r\n",
        "   'Months since last delinquent' ,\r\n",
        "   'Term'                         ,  \r\n",
        "   'Current Loan Amount'         ,\r\n",
        "   'Current Credit Balance'       ,\r\n",
        "   'Monthly Debt'                 ,\r\n",
        "   'Credit Score'       \r\n",
        "\r\n",
        "               ]"
      ],
      "execution_count": 158,
      "outputs": []
    },
    {
      "cell_type": "code",
      "metadata": {
        "id": "PMvLIALNGfPz"
      },
      "source": [
        "X = train[feature_names]\r\n",
        "y = train[target_name]\r\n",
        "X_train, X_val, y_train, y_val = train_test_split(X, y, shuffle=True, test_size=0.30, random_state=21)\r\n",
        "X_test = test[feature_names]"
      ],
      "execution_count": 159,
      "outputs": []
    },
    {
      "cell_type": "code",
      "metadata": {
        "id": "OYZthaoOwTzv"
      },
      "source": [
        "f1 = make_scorer(f1_score , average='micro')"
      ],
      "execution_count": 160,
      "outputs": []
    },
    {
      "cell_type": "code",
      "metadata": {
        "colab": {
          "base_uri": "https://localhost:8080/"
        },
        "id": "iSsYONsHGg4g",
        "outputId": "8370c844-d384-45f4-de6c-f9d6c0e2998b"
      },
      "source": [
        "# комментирую GridSearchCV, чтобы не замедлять работу проекта\r\n",
        "#forest = RandomForestClassifier(max_depth=19, \r\n",
        "#                               max_features=6, \r\n",
        "#                               n_estimators=100,\r\n",
        "#                              random_state=42)\r\n",
        "#params = {\r\n",
        "#    'n_estimators': [60],\r\n",
        "#  'max_depth': [5,10,18],\r\n",
        "#   'max_features': [ 10, 20, 30]\r\n",
        "#}\r\n",
        "#\r\n",
        "#forest_grid = GridSearchCV(forest, params, scoring=f1, \r\n",
        "#                 cv=KFold(n_splits=10, random_state=42, shuffle=True), \r\n",
        "#                n_jobs=-1)\r\n",
        "#forest_grid.fit(X, y)\r\n",
        "#print(forest_grid.best_params_)\r\n",
        "#print('f1 на train: {:.5f}'.format(forest_grid.best_score_))"
      ],
      "execution_count": 115,
      "outputs": [
        {
          "output_type": "stream",
          "text": [
            "{'max_depth': 10, 'max_features': 10, 'n_estimators': 60}\n",
            "f1 на train: 0.78013\n"
          ],
          "name": "stdout"
        }
      ]
    },
    {
      "cell_type": "code",
      "metadata": {
        "id": "_IqL1bneG1Ks"
      },
      "source": [
        "#Комментирую вычисление важности признаков\r\n",
        "\r\n",
        "#forest_best = forest_grid.best_estimator_\r\n",
        "#importances = forest_best.feature_importances_\r\n",
        "#feat_importances = pd.Series(importances, index=feature_names)\r\n",
        "#feat_importances.sort_values(ascending=True, inplace=True)\r\n"
      ],
      "execution_count": 102,
      "outputs": []
    },
    {
      "cell_type": "code",
      "metadata": {
        "colab": {
          "base_uri": "https://localhost:8080/",
          "height": 378
        },
        "id": "tmxx1l5PG1s3",
        "outputId": "a498fd65-1489-4fa3-8574-79598d85268a"
      },
      "source": [
        "#feat_importances.plot(kind='barh', figsize=(10, 6));"
      ],
      "execution_count": 103,
      "outputs": [
        {
          "output_type": "display_data",
          "data": {
            "image/png": "[encoded data removed]",
            "text/plain": [
              "<Figure size 720x432 with 1 Axes>"
            ]
          },
          "metadata": {
            "tags": []
          }
        }
      ]
    },
    {
      "cell_type": "code",
      "metadata": {
        "colab": {
          "base_uri": "https://localhost:8080/"
        },
        "id": "p68xL11UdDQv",
        "outputId": "47cb9e83-d813-48d1-cdfc-874667dd0d7f"
      },
      "source": [
        "#строим лес с лучшими параметрами\r\n",
        "my_forest = RandomForestClassifier(max_depth=15, \r\n",
        "                              max_features=10, \r\n",
        "                               n_estimators=60,\r\n",
        "                               random_state=42)\r\n",
        "my_forest.fit(X_train, y_train)\r\n"
      ],
      "execution_count": 169,
      "outputs": [
        {
          "output_type": "execute_result",
          "data": {
            "text/plain": [
              "RandomForestClassifier(bootstrap=True, ccp_alpha=0.0, class_weight=None,\n",
              "                       criterion='gini', max_depth=15, max_features=10,\n",
              "                       max_leaf_nodes=None, max_samples=None,\n",
              "                       min_impurity_decrease=0.0, min_impurity_split=None,\n",
              "                       min_samples_leaf=1, min_samples_split=2,\n",
              "                       min_weight_fraction_leaf=0.0, n_estimators=60,\n",
              "                       n_jobs=None, oob_score=False, random_state=42, verbose=0,\n",
              "                       warm_start=False)"
            ]
          },
          "metadata": {
            "tags": []
          },
          "execution_count": 169
        }
      ]
    },
    {
      "cell_type": "code",
      "metadata": {
        "id": "0G98ndfLtfC2"
      },
      "source": [
        "y_pred = my_forest.predict(X_train)"
      ],
      "execution_count": 170,
      "outputs": []
    },
    {
      "cell_type": "code",
      "metadata": {
        "id": "YC1PhJhFtYaY"
      },
      "source": [
        "y_pred_val = my_forest.predict(X_val)\r\n"
      ],
      "execution_count": 172,
      "outputs": []
    },
    {
      "cell_type": "markdown",
      "metadata": {
        "id": "lboZGVGltu6r"
      },
      "source": [
        "**`Проверка точности на трейне и валидационных данных`**"
      ]
    },
    {
      "cell_type": "code",
      "metadata": {
        "id": "xd5GylBxzVhq"
      },
      "source": [
        "def get_classification_report(y_train_true, y_train_pred, y_test_true, y_test_pred):\r\n",
        "    print('TRAIN\\n\\n' + classification_report(y_train_true, y_train_pred))\r\n",
        "    print('TEST\\n\\n' + classification_report(y_test_true, y_test_pred))\r\n"
      ],
      "execution_count": 77,
      "outputs": []
    },
    {
      "cell_type": "code",
      "metadata": {
        "colab": {
          "base_uri": "https://localhost:8080/"
        },
        "id": "bSY7G_ap2QC8",
        "outputId": "ab35fd07-8163-4d29-823b-26802fb36ef7"
      },
      "source": [
        "get_classification_report(y_train, y_pred, y_val, y_pred_val)"
      ],
      "execution_count": 173,
      "outputs": [
        {
          "output_type": "stream",
          "text": [
            "TRAIN\n",
            "\n",
            "              precision    recall  f1-score   support\n",
            "\n",
            "           0       0.91      1.00      0.95      3771\n",
            "           1       1.00      0.75      0.86      1479\n",
            "\n",
            "    accuracy                           0.93      5250\n",
            "   macro avg       0.96      0.87      0.90      5250\n",
            "weighted avg       0.94      0.93      0.93      5250\n",
            "\n",
            "TEST\n",
            "\n",
            "              precision    recall  f1-score   support\n",
            "\n",
            "           0       0.78      0.95      0.86      1616\n",
            "           1       0.72      0.33      0.45       634\n",
            "\n",
            "    accuracy                           0.77      2250\n",
            "   macro avg       0.75      0.64      0.65      2250\n",
            "weighted avg       0.76      0.77      0.74      2250\n",
            "\n"
          ],
          "name": "stdout"
        }
      ]
    },
    {
      "cell_type": "code",
      "metadata": {
        "colab": {
          "base_uri": "https://localhost:8080/"
        },
        "id": "bEebagF_yhAT",
        "outputId": "5fda6983-ed1c-45c1-df12-6f38ebcf4702"
      },
      "source": [
        "#пробовала CatBoostClassifier, но получила худшие значения: \r\n",
        "\r\n",
        "#final_model = catb.CatBoostClassifier(n_estimators=1500, max_depth=5,\r\n",
        "#                                      silent=True,\r\n",
        "#                                      #l2_leaf_reg = 10, \r\n",
        "#                                      #scale_pos_weight = scale,                                      \r\n",
        "#                                      random_state=21)\r\n",
        "#final_model.fit(X_train, y_train)\r\n",
        "#\r\n",
        "#y_train_pred = final_model.predict(X_train)\r\n",
        "#y_val_pred = final_model.predict(X_val)\r\n",
        "#\r\n",
        "#get_classification_report(y_train, y_train_pred, y_val, y_val_pred)"
      ],
      "execution_count": 156,
      "outputs": [
        {
          "output_type": "stream",
          "text": [
            "TRAIN\n",
            "\n",
            "              precision    recall  f1-score   support\n",
            "\n",
            "           0       0.83      0.99      0.90      3771\n",
            "           1       0.96      0.47      0.63      1479\n",
            "\n",
            "    accuracy                           0.85      5250\n",
            "   macro avg       0.89      0.73      0.77      5250\n",
            "weighted avg       0.86      0.85      0.83      5250\n",
            "\n",
            "TEST\n",
            "\n",
            "              precision    recall  f1-score   support\n",
            "\n",
            "           0       0.77      0.96      0.86      1616\n",
            "           1       0.72      0.29      0.41       634\n",
            "\n",
            "    accuracy                           0.77      2250\n",
            "   macro avg       0.75      0.62      0.63      2250\n",
            "weighted avg       0.76      0.77      0.73      2250\n",
            "\n"
          ],
          "name": "stdout"
        }
      ]
    },
    {
      "cell_type": "code",
      "metadata": {
        "id": "EuC2cfreC17x"
      },
      "source": [
        "#предсказание для теста\r\n",
        "X_test = test[feature_names]\r\n",
        "y_test = my_forest.predict(X_test)\r\n",
        "preds = pd.DataFrame()\r\n",
        "preds['Credit Default'] = y_test\r\n",
        "preds.to_csv('JuliaGribova_predictions.csv', index=False)"
      ],
      "execution_count": 179,
      "outputs": []
    }
  ]
}